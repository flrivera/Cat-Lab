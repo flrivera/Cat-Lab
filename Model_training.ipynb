{
 "cells": [
  {
   "cell_type": "code",
   "execution_count": 4,
   "id": "19d79723",
   "metadata": {},
   "outputs": [],
   "source": [
    "import numpy as np\n",
    "import pandas as pd\n",
    "import pickle\n",
    "from Features_extraction import Feature_class "
   ]
  },
  {
   "cell_type": "code",
   "execution_count": 6,
   "id": "b2881f60",
   "metadata": {},
   "outputs": [
    {
     "ename": "RecursionError",
     "evalue": "maximum recursion depth exceeded while calling a Python object",
     "output_type": "error",
     "traceback": [
      "\u001b[0;31m---------------------------------------------------------------------------\u001b[0m",
      "\u001b[0;31mRecursionError\u001b[0m                            Traceback (most recent call last)",
      "\u001b[0;32m<ipython-input-6-f4d4f169c57b>\u001b[0m in \u001b[0;36m<module>\u001b[0;34m\u001b[0m\n\u001b[0;32m----> 1\u001b[0;31m \u001b[0mfeatures\u001b[0m\u001b[0;34m=\u001b[0m\u001b[0mFeature_class\u001b[0m\u001b[0;34m(\u001b[0m\u001b[0;34m)\u001b[0m\u001b[0;34m\u001b[0m\u001b[0;34m\u001b[0m\u001b[0m\n\u001b[0m",
      "\u001b[0;32m/mnt/c/Users/Freida Laptop/OneDrive/Data_Incubator_Challenge/Cat-Lab/Pet-Lab/Features_extraction.py\u001b[0m in \u001b[0;36mFeature_class\u001b[0;34m()\u001b[0m\n\u001b[1;32m    199\u001b[0m \u001b[0;34m\u001b[0m\u001b[0m\n\u001b[1;32m    200\u001b[0m     \u001b[0mFeatures\u001b[0m\u001b[0;34m=\u001b[0m\u001b[0mFeatures\u001b[0m\u001b[0;34m.\u001b[0m\u001b[0mrename\u001b[0m\u001b[0;34m(\u001b[0m\u001b[0mcolumns\u001b[0m\u001b[0;34m=\u001b[0m\u001b[0;34m{\u001b[0m\u001b[0;36m0\u001b[0m\u001b[0;34m:\u001b[0m\u001b[0;34m'Class'\u001b[0m\u001b[0;34m}\u001b[0m\u001b[0;34m)\u001b[0m\u001b[0;34m;\u001b[0m\u001b[0;34m\u001b[0m\u001b[0;34m\u001b[0m\u001b[0m\n\u001b[0;32m--> 201\u001b[0;31m     \u001b[0mFeatures\u001b[0m\u001b[0;34m[\u001b[0m\u001b[0;34m'Pixel_mean'\u001b[0m\u001b[0;34m]\u001b[0m\u001b[0;34m=\u001b[0m \u001b[0mFeature_class\u001b[0m\u001b[0;34m(\u001b[0m\u001b[0;34m)\u001b[0m\u001b[0;34m[\u001b[0m\u001b[0;36m0\u001b[0m\u001b[0;34m]\u001b[0m\u001b[0;34m;\u001b[0m\u001b[0;34m\u001b[0m\u001b[0;34m\u001b[0m\u001b[0m\n\u001b[0m\u001b[1;32m    202\u001b[0m     \u001b[0mFeatures\u001b[0m\u001b[0;34m[\u001b[0m\u001b[0;34m'Pixel_std'\u001b[0m\u001b[0;34m]\u001b[0m\u001b[0;34m=\u001b[0m \u001b[0mFeature_class\u001b[0m\u001b[0;34m(\u001b[0m\u001b[0;34m)\u001b[0m\u001b[0;34m[\u001b[0m\u001b[0;36m1\u001b[0m\u001b[0;34m]\u001b[0m\u001b[0;34m;\u001b[0m\u001b[0;34m\u001b[0m\u001b[0;34m\u001b[0m\u001b[0m\n\u001b[1;32m    203\u001b[0m \u001b[0;34m\u001b[0m\u001b[0m\n",
      "... last 1 frames repeated, from the frame below ...\n",
      "\u001b[0;32m/mnt/c/Users/Freida Laptop/OneDrive/Data_Incubator_Challenge/Cat-Lab/Pet-Lab/Features_extraction.py\u001b[0m in \u001b[0;36mFeature_class\u001b[0;34m()\u001b[0m\n\u001b[1;32m    199\u001b[0m \u001b[0;34m\u001b[0m\u001b[0m\n\u001b[1;32m    200\u001b[0m     \u001b[0mFeatures\u001b[0m\u001b[0;34m=\u001b[0m\u001b[0mFeatures\u001b[0m\u001b[0;34m.\u001b[0m\u001b[0mrename\u001b[0m\u001b[0;34m(\u001b[0m\u001b[0mcolumns\u001b[0m\u001b[0;34m=\u001b[0m\u001b[0;34m{\u001b[0m\u001b[0;36m0\u001b[0m\u001b[0;34m:\u001b[0m\u001b[0;34m'Class'\u001b[0m\u001b[0;34m}\u001b[0m\u001b[0;34m)\u001b[0m\u001b[0;34m;\u001b[0m\u001b[0;34m\u001b[0m\u001b[0;34m\u001b[0m\u001b[0m\n\u001b[0;32m--> 201\u001b[0;31m     \u001b[0mFeatures\u001b[0m\u001b[0;34m[\u001b[0m\u001b[0;34m'Pixel_mean'\u001b[0m\u001b[0;34m]\u001b[0m\u001b[0;34m=\u001b[0m \u001b[0mFeature_class\u001b[0m\u001b[0;34m(\u001b[0m\u001b[0;34m)\u001b[0m\u001b[0;34m[\u001b[0m\u001b[0;36m0\u001b[0m\u001b[0;34m]\u001b[0m\u001b[0;34m;\u001b[0m\u001b[0;34m\u001b[0m\u001b[0;34m\u001b[0m\u001b[0m\n\u001b[0m\u001b[1;32m    202\u001b[0m     \u001b[0mFeatures\u001b[0m\u001b[0;34m[\u001b[0m\u001b[0;34m'Pixel_std'\u001b[0m\u001b[0;34m]\u001b[0m\u001b[0;34m=\u001b[0m \u001b[0mFeature_class\u001b[0m\u001b[0;34m(\u001b[0m\u001b[0;34m)\u001b[0m\u001b[0;34m[\u001b[0m\u001b[0;36m1\u001b[0m\u001b[0;34m]\u001b[0m\u001b[0;34m;\u001b[0m\u001b[0;34m\u001b[0m\u001b[0;34m\u001b[0m\u001b[0m\n\u001b[1;32m    203\u001b[0m \u001b[0;34m\u001b[0m\u001b[0m\n",
      "\u001b[0;31mRecursionError\u001b[0m: maximum recursion depth exceeded while calling a Python object"
     ]
    }
   ],
   "source": [
    "features=Feature_class()"
   ]
  },
  {
   "cell_type": "code",
   "execution_count": null,
   "id": "8ee3480b",
   "metadata": {},
   "outputs": [],
   "source": []
  },
  {
   "cell_type": "code",
   "execution_count": null,
   "id": "bfbeebe9",
   "metadata": {},
   "outputs": [],
   "source": []
  },
  {
   "cell_type": "markdown",
   "id": "ec0a3479",
   "metadata": {},
   "source": [
    "# Set-up Models"
   ]
  },
  {
   "cell_type": "code",
   "execution_count": null,
   "id": "bb1b968d",
   "metadata": {},
   "outputs": [],
   "source": [
    "\n",
    "def knearest(n=3):\n",
    "\n",
    "    from sklearn.neighbors import KNeighborsClassifier\n",
    "    from sklearn.model_selection import train_test_split\n",
    "\n",
    "\n",
    "\n",
    "    # 1. declare the classifier\n",
    "    # n-neighbors is the number of closest neighbors we consider when voting\n",
    "\n",
    "    knn=KNeighborsClassifier(n_neighbors=n) # find ideal k\n",
    "\n",
    "    #2. prepare the unput variable x and target output y\n",
    "\n",
    "    x,y =Features.drop(['Class'],axis=1),Features['Class'] # we want the input space to only be the features of the flowers\n",
    "\n",
    "    #3. Split the dataset into two parts, the training set and the test set\n",
    "    x_test,x_train,y_test,y_train= train_test_split(x,y,test_size=0.3, random_state=1)\n",
    "\n",
    "    # 4. Fit the model using the training data\n",
    "\n",
    "    knn.fit(x_train,y_train)\n",
    "\n",
    "    # 5. make predictions with the input from the test data\n",
    "\n",
    "    prediction=knn.predict(x_test)\n",
    "    \n",
    "    import pickle\n",
    "\n",
    "    # save the model to disk\n",
    "    filename = '5_flowers_knn.sav'\n",
    "    pickle.dump(model, open(filename, 'wb'))\n",
    " \n",
    "    # some time later...\n",
    " \n",
    "\n",
    "\n",
    "\n",
    "    return(print('kNN(k=3) model, prediction and accuracy:',knn,prediction,knn.score(x_test,y_test)))\n",
    "\n",
    "\n",
    "def Naives_bayes():\n",
    "    from sklearn.naive_bayes import GaussianNB\n",
    "    from sklearn.model_selection import train_test_split\n",
    "\n",
    "    nb=GaussianNB()\n",
    "\n",
    "    x,y =Features.drop(['Class'],axis=1),Features['Class']\n",
    "\n",
    "    x_train,x_test,y_train,y_test=train_test_split(x,y,test_size=0.2,random_state=1)\n",
    "\n",
    "    nb.fit(x_train,y_train)\n",
    "\n",
    "    prediction= nb.predict(x_test)\n",
    "\n",
    "    import pickle\n",
    "\n",
    "    # save the model to disk\n",
    "    filename = '5_flowers_nb.sav'\n",
    "    pickle.dump(model, open(filename, 'wb'))\n",
    "\n",
    "    return(print('NB model, prediction and accuracy:',nb, prediction,nb.score(x_test,y_test)))\n",
    "\n",
    "\n",
    "def Des_tree():\n",
    "\n",
    "    from sklearn.tree import DecisionTreeClassifier\n",
    "    from sklearn.model_selection import train_test_split\n",
    "    from sklearn import tree\n",
    "\n",
    "    dtree = DecisionTreeClassifier()\n",
    "    x,y =Features.drop(['Class'],axis=1),Features['Class']\n",
    "\n",
    "    x_train,x_test,y_train,y_test= train_test_split(x,y,test_size=0.2,random_state=1)\n",
    "\n",
    "\n",
    "    dtree.fit(x_train,y_train)\n",
    "\n",
    "    predictor= dtree.predict(x_test)\n",
    "    \n",
    "    import pickle\n",
    "\n",
    "    # save the model to disk\n",
    "    filename = '5_flowers_dtree.sav'\n",
    "    pickle.dump(model, open(filename, 'wb'))\n",
    "\n",
    "    return(print('dtree model, prediction and accuracy:',dtree, predictor,dtree.score(x_test,y_test)))\n",
    "\n",
    "    \n",
    "###Train all models and save output\n",
    "    \n"
   ]
  },
  {
   "cell_type": "markdown",
   "id": "f9c83170",
   "metadata": {},
   "source": [
    "# Run all models"
   ]
  },
  {
   "cell_type": "code",
   "execution_count": null,
   "id": "85550039",
   "metadata": {},
   "outputs": [],
   "source": [
    "knearest(n=3)\n",
    "Naives_bayes()\n",
    "Des_tree()"
   ]
  },
  {
   "cell_type": "code",
   "execution_count": null,
   "id": "497d0e4b",
   "metadata": {},
   "outputs": [],
   "source": []
  },
  {
   "cell_type": "code",
   "execution_count": null,
   "id": "c6d935ef",
   "metadata": {},
   "outputs": [],
   "source": [
    "\n",
    " \n",
    "# some time later...\n",
    " \n",
    "# load the model from disk\n",
    "loaded_model = pickle.load(open(filename, 'rb'))\n",
    "result = loaded_model.score(X_test, Y_test)\n",
    "print(result)"
   ]
  },
  {
   "cell_type": "code",
   "execution_count": null,
   "id": "05fea53e",
   "metadata": {},
   "outputs": [],
   "source": []
  }
 ],
 "metadata": {
  "kernelspec": {
   "display_name": "Python 3",
   "language": "python",
   "name": "python3"
  },
  "language_info": {
   "codemirror_mode": {
    "name": "ipython",
    "version": 3
   },
   "file_extension": ".py",
   "mimetype": "text/x-python",
   "name": "python",
   "nbconvert_exporter": "python",
   "pygments_lexer": "ipython3",
   "version": "3.8.5"
  }
 },
 "nbformat": 4,
 "nbformat_minor": 5
}
